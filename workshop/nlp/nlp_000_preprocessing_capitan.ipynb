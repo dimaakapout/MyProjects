{
  "nbformat": 4,
  "nbformat_minor": 0,
  "metadata": {
    "kernelspec": {
      "display_name": "Python 3",
      "language": "python",
      "name": "python3"
    },
    "language_info": {
      "codemirror_mode": {
        "name": "ipython",
        "version": 3
      },
      "file_extension": ".py",
      "mimetype": "text/x-python",
      "name": "python",
      "nbconvert_exporter": "python",
      "pygments_lexer": "ipython3",
      "version": "3.5.2"
    },
    "colab": {
      "name": "nlp/nlp_000_preprocessing_capitan.ipynb",
      "provenance": [],
      "collapsed_sections": [],
      "toc_visible": true,
      "include_colab_link": true
    }
  },
  "cells": [
    {
      "cell_type": "markdown",
      "metadata": {
        "id": "view-in-github",
        "colab_type": "text"
      },
      "source": [
        "<a href=\"https://colab.research.google.com/github/dimaakapout/MyProjects/blob/master/workshop/nlp/nlp_000_preprocessing_capitan.ipynb\" target=\"_parent\"><img src=\"https://colab.research.google.com/assets/colab-badge.svg\" alt=\"Open In Colab\"/></a>"
      ]
    },
    {
      "cell_type": "markdown",
      "metadata": {
        "id": "mbebo6TR5rmh",
        "colab_type": "text"
      },
      "source": [
        "# Natural Language Processing"
      ]
    },
    {
      "cell_type": "markdown",
      "metadata": {
        "id": "1D6utsZ-5roo",
        "colab_type": "text"
      },
      "source": [
        "# Задание\n",
        "\n",
        "Скачать текст [\"Капитанской дочки\"](https://www.dropbox.com/s/aky2md6724r3yww/%D0%BA%D0%B0%D0%BF%D0%B8%D1%82%D0%B0%D0%BD%D1%81%D0%BA%D0%B0%D1%8F%20%D0%B4%D0%BE%D1%87%D0%BA%D0%B0.txt?dl=0)\n",
        "\n",
        "1. Найти длину текста в токенах, типах и леммах (после удаления пунктуации).\n",
        "2. Проверить, соблюдается ли закон Ципфа и построить диаграмму с 20 самыми частотными словами (после удаления стоп-слов).\n",
        "3. Найти среднюю длину предложения.\n",
        "4. Найти самую частотную часть речи до удаления стоп-слов и после удаления. Постороить графики частотности частей речи. "
      ]
    },
    {
      "cell_type": "code",
      "metadata": {
        "id": "F_lgocmSGosA",
        "colab_type": "code",
        "outputId": "bb8a6582-bd3d-430e-f6ea-e560c713cd67",
        "colab": {
          "base_uri": "https://localhost:8080/",
          "height": 386
        }
      },
      "source": [
        "# Прочитаем файл\n",
        "with open(\"капитанская дочка.txt\", \"r\") as file:\n",
        "    txt = file.read()\n",
        "print(txt[:500])"
      ],
      "execution_count": 5,
      "outputs": [
        {
          "output_type": "stream",
          "text": [
            "\n",
            "РВБ\n",
            "\n",
            "    XVIII в.\n",
            "    XIX в.\n",
            "    XX в.\n",
            "\n",
            "    А. С. Пушкин Собр. соч. в 10 тт. Т. 5 Капитанская дочка \n",
            "\n",
            "КАПИТАНСКАЯ ДОЧКА\n",
            "Береги честь смолоду.\n",
            "Пословица.\n",
            "Глава I\n",
            "СЕРЖАНТ ГВАРДИИ\n",
            "— Был бы гвардии он завтра ж капитан.\n",
            "— Того не надобно; пусть в армии послужит.\n",
            "— Изрядно сказано! пускай его потужит...\n",
            ". . . . . . . . . . . . . . . . . . . . . . . . . . . .\n",
            "Да кто его отец?\n",
            "Княжнин.\n",
            "\n",
            "Отец мой Андрей Петрович Гринев в молодости своей служил при графе Минихе и вышел в отставку премьер-майором в 17.. г\n"
          ],
          "name": "stdout"
        }
      ]
    },
    {
      "cell_type": "code",
      "metadata": {
        "id": "WaqxoBaaP4pB",
        "colab_type": "code",
        "colab": {}
      },
      "source": [
        "#!pip install pymorphy2"
      ],
      "execution_count": 0,
      "outputs": []
    },
    {
      "cell_type": "code",
      "metadata": {
        "id": "rTVEdyevIjfo",
        "colab_type": "code",
        "colab": {}
      },
      "source": [
        "from nltk.tokenize import word_tokenize, sent_tokenize\n",
        "import nltk\n",
        "import string\n",
        "import numpy as np\n",
        "from pymorphy2 import MorphAnalyzer\n",
        "\n",
        "nltk.download('stopwords')\n",
        "nltk.download('punkt')\n",
        "nltk.download('snowball_data')\n",
        "nltk.download('perluniprops')\n",
        "nltk.download('universal_tagset')\n",
        "nltk.download('stopwords')\n",
        "nltk.download('nonbreaking_prefixes')\n",
        "nltk.download('wordnet')"
      ],
      "execution_count": 0,
      "outputs": []
    },
    {
      "cell_type": "code",
      "metadata": {
        "id": "eFR32WKcLWx2",
        "colab_type": "code",
        "colab": {}
      },
      "source": [
        "punct = string.punctuation  # Знаки препинания '!\"#$%&\\'()*+,-./:;<=>?@[\\\\]^_`{|}~'\n",
        "\n",
        "# Удаление пунктуации в каждом токене\n",
        "tokens = [word.strip(punct) for word in word_tokenize(txt)]\n",
        "\n",
        "# Приводим все токены к нижнему регистру и выкидываем пустые строки\n",
        "tokens = [word.lower() for word in tokens if word != '']\n",
        "\n",
        "# Нормализация текста (лемматизация)\n",
        "morph = MorphAnalyzer()\n",
        "lemms = [morph.parse(word)[0].normal_form for word in tokens]"
      ],
      "execution_count": 0,
      "outputs": []
    },
    {
      "cell_type": "code",
      "metadata": {
        "id": "VLpRW9JeKzRf",
        "colab_type": "code",
        "outputId": "9b8af05a-828b-4219-8a4c-5f733da1667b",
        "colab": {
          "base_uri": "https://localhost:8080/",
          "height": 67
        }
      },
      "source": [
        "print('{0} токентов в тексте\\n{1} словоформ в тексте\\n{2} лемм в тексте.'.format(len(tokens), \n",
        "                                                                                 np.unique(np.array(tokens)).shape[0], \n",
        "                                                                                 np.unique(np.array(lemms)).shape[0]))"
      ],
      "execution_count": 87,
      "outputs": [
        {
          "output_type": "stream",
          "text": [
            "34635 токентов в тексте\n",
            "9375 словоформ в тексте\n",
            "5438 лемм в тексте.\n"
          ],
          "name": "stdout"
        }
      ]
    },
    {
      "cell_type": "code",
      "metadata": {
        "id": "DYprCby5SJn5",
        "colab_type": "code",
        "colab": {}
      },
      "source": [
        "# Удаляем стоп-слова \n",
        "\n",
        "from nltk.corpus import stopwords\n",
        "sw = stopwords.words('russian')\n",
        "cleaned_words = ([word for word in lemms if word not in sw])"
      ],
      "execution_count": 0,
      "outputs": []
    },
    {
      "cell_type": "code",
      "metadata": {
        "id": "aNzDWHVUKzL8",
        "colab_type": "code",
        "colab": {}
      },
      "source": [
        "import pandas as pd\n",
        "from collections import Counter"
      ],
      "execution_count": 0,
      "outputs": []
    },
    {
      "cell_type": "code",
      "metadata": {
        "id": "gqJMOAm6RQ9E",
        "colab_type": "code",
        "colab": {}
      },
      "source": [
        "count = Counter(cleaned_words)\n",
        "count = pd.DataFrame(data=[count.keys(), count.values()], index=['word', 'counts']).T"
      ],
      "execution_count": 0,
      "outputs": []
    },
    {
      "cell_type": "code",
      "metadata": {
        "id": "heMFnTtdLLxA",
        "colab_type": "code",
        "outputId": "b22210e2-1f73-4129-87f5-43256608521f",
        "colab": {
          "base_uri": "https://localhost:8080/",
          "height": 195
        }
      },
      "source": [
        "count.head()"
      ],
      "execution_count": 57,
      "outputs": [
        {
          "output_type": "execute_result",
          "data": {
            "text/html": [
              "<div>\n",
              "<style scoped>\n",
              "    .dataframe tbody tr th:only-of-type {\n",
              "        vertical-align: middle;\n",
              "    }\n",
              "\n",
              "    .dataframe tbody tr th {\n",
              "        vertical-align: top;\n",
              "    }\n",
              "\n",
              "    .dataframe thead th {\n",
              "        text-align: right;\n",
              "    }\n",
              "</style>\n",
              "<table border=\"1\" class=\"dataframe\">\n",
              "  <thead>\n",
              "    <tr style=\"text-align: right;\">\n",
              "      <th></th>\n",
              "      <th>word</th>\n",
              "      <th>counts</th>\n",
              "    </tr>\n",
              "  </thead>\n",
              "  <tbody>\n",
              "    <tr>\n",
              "      <th>0</th>\n",
              "      <td>рвб</td>\n",
              "      <td>2</td>\n",
              "    </tr>\n",
              "    <tr>\n",
              "      <th>1</th>\n",
              "      <td>xviii</td>\n",
              "      <td>1</td>\n",
              "    </tr>\n",
              "    <tr>\n",
              "      <th>2</th>\n",
              "      <td>xix</td>\n",
              "      <td>1</td>\n",
              "    </tr>\n",
              "    <tr>\n",
              "      <th>3</th>\n",
              "      <td>xx</td>\n",
              "      <td>1</td>\n",
              "    </tr>\n",
              "    <tr>\n",
              "      <th>4</th>\n",
              "      <td>пушкин</td>\n",
              "      <td>3</td>\n",
              "    </tr>\n",
              "  </tbody>\n",
              "</table>\n",
              "</div>"
            ],
            "text/plain": [
              "     word counts\n",
              "0     рвб      2\n",
              "1   xviii      1\n",
              "2     xix      1\n",
              "3      xx      1\n",
              "4  пушкин      3"
            ]
          },
          "metadata": {
            "tags": []
          },
          "execution_count": 57
        }
      ]
    },
    {
      "cell_type": "code",
      "metadata": {
        "id": "RSBGpEpNYODI",
        "colab_type": "code",
        "colab": {
          "base_uri": "https://localhost:8080/",
          "height": 343
        },
        "outputId": "b304be62-0425-400f-990f-fdc2befb8e33"
      },
      "source": [
        "#Видно что закрались лишние символы в нормализованные текст\n",
        "count.sort_values('counts', ascending=False).head(10)"
      ],
      "execution_count": 79,
      "outputs": [
        {
          "output_type": "execute_result",
          "data": {
            "text/html": [
              "<div>\n",
              "<style scoped>\n",
              "    .dataframe tbody tr th:only-of-type {\n",
              "        vertical-align: middle;\n",
              "    }\n",
              "\n",
              "    .dataframe tbody tr th {\n",
              "        vertical-align: top;\n",
              "    }\n",
              "\n",
              "    .dataframe thead th {\n",
              "        text-align: right;\n",
              "    }\n",
              "</style>\n",
              "<table border=\"1\" class=\"dataframe\">\n",
              "  <thead>\n",
              "    <tr style=\"text-align: right;\">\n",
              "      <th></th>\n",
              "      <th>word</th>\n",
              "      <th>counts</th>\n",
              "    </tr>\n",
              "  </thead>\n",
              "  <tbody>\n",
              "    <tr>\n",
              "      <th>20</th>\n",
              "      <td>—</td>\n",
              "      <td>1073</td>\n",
              "    </tr>\n",
              "    <tr>\n",
              "      <th>154</th>\n",
              "      <td>»</td>\n",
              "      <td>317</td>\n",
              "    </tr>\n",
              "    <tr>\n",
              "      <th>138</th>\n",
              "      <td>«</td>\n",
              "      <td>316</td>\n",
              "    </tr>\n",
              "    <tr>\n",
              "      <th>28</th>\n",
              "      <td>сказать</td>\n",
              "      <td>253</td>\n",
              "    </tr>\n",
              "    <tr>\n",
              "      <th>633</th>\n",
              "      <td>иван</td>\n",
              "      <td>253</td>\n",
              "    </tr>\n",
              "    <tr>\n",
              "      <th>37</th>\n",
              "      <td>свой</td>\n",
              "      <td>194</td>\n",
              "    </tr>\n",
              "    <tr>\n",
              "      <th>62</th>\n",
              "      <td>весь</td>\n",
              "      <td>185</td>\n",
              "    </tr>\n",
              "    <tr>\n",
              "      <th>2732</th>\n",
              "      <td>пугачев</td>\n",
              "      <td>163</td>\n",
              "    </tr>\n",
              "    <tr>\n",
              "      <th>126</th>\n",
              "      <td>который</td>\n",
              "      <td>140</td>\n",
              "    </tr>\n",
              "    <tr>\n",
              "      <th>121</th>\n",
              "      <td>это</td>\n",
              "      <td>131</td>\n",
              "    </tr>\n",
              "  </tbody>\n",
              "</table>\n",
              "</div>"
            ],
            "text/plain": [
              "         word counts\n",
              "20          —   1073\n",
              "154         »    317\n",
              "138         «    316\n",
              "28    сказать    253\n",
              "633      иван    253\n",
              "37       свой    194\n",
              "62       весь    185\n",
              "2732  пугачев    163\n",
              "126   который    140\n",
              "121       это    131"
            ]
          },
          "metadata": {
            "tags": []
          },
          "execution_count": 79
        }
      ]
    },
    {
      "cell_type": "code",
      "metadata": {
        "id": "cbpC-5uOGojW",
        "colab_type": "code",
        "colab": {
          "base_uri": "https://localhost:8080/",
          "height": 282
        },
        "outputId": "88d55524-6083-4ebe-a389-40004df1bc2a"
      },
      "source": [
        "# Закон Ципфа выполняется\n",
        "count.sort_values('counts', ascending=False).reset_index(drop=True)['counts'][3:23].plot(linestyle='-', marker='o')"
      ],
      "execution_count": 89,
      "outputs": [
        {
          "output_type": "execute_result",
          "data": {
            "text/plain": [
              "<matplotlib.axes._subplots.AxesSubplot at 0x7f075d98b550>"
            ]
          },
          "metadata": {
            "tags": []
          },
          "execution_count": 89
        },
        {
          "output_type": "display_data",
          "data": {
            "image/png": "[encoded data removed]",
            "text/plain": [
              "<Figure size 432x288 with 1 Axes>"
            ]
          },
          "metadata": {
            "tags": [],
            "needs_background": "light"
          }
        }
      ]
    },
    {
      "cell_type": "code",
      "metadata": {
        "id": "bHeZlh6bZUpg",
        "colab_type": "code",
        "colab": {}
      },
      "source": [
        "sents = sent_tokenize(txt)"
      ],
      "execution_count": 0,
      "outputs": []
    },
    {
      "cell_type": "code",
      "metadata": {
        "id": "SzhIPvC9bdGO",
        "colab_type": "code",
        "colab": {
          "base_uri": "https://localhost:8080/",
          "height": 34
        },
        "outputId": "984e7518-84c5-4cf6-8587-6651664c418a"
      },
      "source": [
        "# средняя длина предложения\n",
        "sum([len(sent) for sent in sents])/len(sents)"
      ],
      "execution_count": 99,
      "outputs": [
        {
          "output_type": "execute_result",
          "data": {
            "text/plain": [
              "66.16850741558851"
            ]
          },
          "metadata": {
            "tags": []
          },
          "execution_count": 99
        }
      ]
    }
  ]
}