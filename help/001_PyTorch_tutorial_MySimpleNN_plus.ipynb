{
  "nbformat": 4,
  "nbformat_minor": 0,
  "metadata": {
    "colab": {
      "name": "PyTorch_tutorial_MySimpleNN.ipynb",
      "provenance": [],
      "collapsed_sections": [],
      "authorship_tag": "ABX9TyMayy7XVPiyKtCRrLxfC5m8",
      "include_colab_link": true
    },
    "kernelspec": {
      "name": "python3",
      "display_name": "Python 3"
    }
  },
  "cells": [
    {
      "cell_type": "markdown",
      "metadata": {
        "id": "view-in-github",
        "colab_type": "text"
      },
      "source": [
        "<a href=\"https://colab.research.google.com/github/dimaakapout/MyProjects/blob/master/help/001_PyTorch_tutorial_MySimpleNN_plus.ipynb\" target=\"_parent\"><img src=\"https://colab.research.google.com/assets/colab-badge.svg\" alt=\"Open In Colab\"/></a>"
      ]
    },
    {
      "cell_type": "markdown",
      "metadata": {
        "id": "_fNJV6UM0sKa",
        "colab_type": "text"
      },
      "source": [
        "# PyTorch введение\n",
        "\n",
        "Решим простую классификацию с помощью простейшей нейросети на PyTorch"
      ]
    },
    {
      "cell_type": "code",
      "metadata": {
        "id": "7LALXr9yz6Hk",
        "colab_type": "code",
        "colab": {}
      },
      "source": [
        "# Import \n",
        "\n",
        "from sklearn.datasets import make_classification\n",
        "import matplotlib.pyplot as plt\n",
        "\n"
      ],
      "execution_count": 0,
      "outputs": []
    },
    {
      "cell_type": "markdown",
      "metadata": {
        "id": "l1yho7Cq09m6",
        "colab_type": "text"
      },
      "source": [
        "# Данные для классификации"
      ]
    },
    {
      "cell_type": "code",
      "metadata": {
        "id": "rqZhNX6u0GR9",
        "colab_type": "code",
        "colab": {}
      },
      "source": [
        "X, y = make_classification(n_samples=500, \n",
        "                           n_features=2, \n",
        "                           n_redundant=0, \n",
        "                           flip_y=0, \n",
        "                           class_sep=1)"
      ],
      "execution_count": 0,
      "outputs": []
    },
    {
      "cell_type": "code",
      "metadata": {
        "id": "WYeTGNu40cXK",
        "colab_type": "code",
        "colab": {
          "base_uri": "https://localhost:8080/",
          "height": 282
        },
        "outputId": "23416adc-4b6e-45f6-fc55-c7336c3511d2"
      },
      "source": [
        "plt.scatter(X[y==0][:,0],X[y==0][:,1]) \n",
        "plt.scatter(X[y==1][:,0],X[y==1][:,1])"
      ],
      "execution_count": 4,
      "outputs": [
        {
          "output_type": "execute_result",
          "data": {
            "text/plain": [
              "<matplotlib.collections.PathCollection at 0x7fb685850780>"
            ]
          },
          "metadata": {
            "tags": []
          },
          "execution_count": 4
        },
        {
          "output_type": "display_data",
          "data": {
            "image/png": "[encoded data removed]",
            "text/plain": [
              "<Figure size 432x288 with 1 Axes>"
            ]
          },
          "metadata": {
            "tags": [],
            "needs_background": "light"
          }
        }
      ]
    },
    {
      "cell_type": "code",
      "metadata": {
        "id": "8p38s1bU0jcy",
        "colab_type": "code",
        "colab": {}
      },
      "source": [
        ""
      ],
      "execution_count": 0,
      "outputs": []
    },
    {
      "cell_type": "markdown",
      "metadata": {
        "id": "idsxtSWf1Fzr",
        "colab_type": "text"
      },
      "source": [
        "# neural network"
      ]
    },
    {
      "cell_type": "code",
      "metadata": {
        "id": "AqEnbsfn1J6H",
        "colab_type": "code",
        "colab": {}
      },
      "source": [
        "import torch\n",
        "import torch.nn as nn\n",
        "import torch.nn.functional as F"
      ],
      "execution_count": 0,
      "outputs": []
    },
    {
      "cell_type": "markdown",
      "metadata": {
        "id": "6sa4lsQ05fbT",
        "colab_type": "text"
      },
      "source": [
        "### Архитектура сети"
      ]
    },
    {
      "cell_type": "code",
      "metadata": {
        "id": "T1yPHCyS1N2a",
        "colab_type": "code",
        "colab": {
          "base_uri": "https://localhost:8080/",
          "height": 84
        },
        "outputId": "d3ace09f-a2fe-4bea-b795-1d2c20d80ef0"
      },
      "source": [
        "class Net(nn.Module):\n",
        "\n",
        "    def __init__(self):\n",
        "       # Описываем только слои (линейную часть)\n",
        "        super(Net, self).__init__()\n",
        "\n",
        "        # an affine operation: y = Wx + b\n",
        "        self.fc1 = nn.Linear(2, 10)  # вход - выход\n",
        "        self.fc2 = nn.Linear(10, 1)\n",
        "\n",
        "    def forward(self, x):\n",
        "        # тут описываем все нелинейные параметры сети\n",
        "\n",
        "        x = F.relu(self.fc1(x))\n",
        "        x = torch.sigmoid(self.fc2(x))\n",
        "        return x\n",
        "\n",
        "\n",
        "net = Net()\n",
        "print(net)"
      ],
      "execution_count": 153,
      "outputs": [
        {
          "output_type": "stream",
          "text": [
            "Net(\n",
            "  (fc1): Linear(in_features=2, out_features=10, bias=True)\n",
            "  (fc2): Linear(in_features=10, out_features=1, bias=True)\n",
            ")\n"
          ],
          "name": "stdout"
        }
      ]
    },
    {
      "cell_type": "code",
      "metadata": {
        "id": "KO7E2UwP2kzi",
        "colab_type": "code",
        "colab": {
          "base_uri": "https://localhost:8080/",
          "height": 84
        },
        "outputId": "d1e09783-33dd-499d-d718-f89e3dd0ed04"
      },
      "source": [
        "params = list(net.parameters())\n",
        "for i in params:\n",
        "  print(i.size())"
      ],
      "execution_count": 154,
      "outputs": [
        {
          "output_type": "stream",
          "text": [
            "torch.Size([10, 2])\n",
            "torch.Size([10])\n",
            "torch.Size([1, 10])\n",
            "torch.Size([1])\n"
          ],
          "name": "stdout"
        }
      ]
    },
    {
      "cell_type": "code",
      "metadata": {
        "id": "4jpFb8Wh3U8J",
        "colab_type": "code",
        "colab": {
          "base_uri": "https://localhost:8080/",
          "height": 34
        },
        "outputId": "911a629b-5a7f-4792-cb9f-9fe9b81d9a4b"
      },
      "source": [
        "# inp - input. Пропустим через сетку 1 пример из X\n",
        "\n",
        "inp = torch.tensor(X[0,:], dtype=torch.float).unsqueeze(0)\n",
        "inp"
      ],
      "execution_count": 155,
      "outputs": [
        {
          "output_type": "execute_result",
          "data": {
            "text/plain": [
              "tensor([[-1.6761,  2.4037]])"
            ]
          },
          "metadata": {
            "tags": []
          },
          "execution_count": 155
        }
      ]
    },
    {
      "cell_type": "code",
      "metadata": {
        "id": "8ocdQXUF3Iw5",
        "colab_type": "code",
        "colab": {
          "base_uri": "https://localhost:8080/",
          "height": 34
        },
        "outputId": "726ddead-6197-4909-b1e5-3fb9b2d49ac7"
      },
      "source": [
        "out = net(inp) # выход сети\n",
        "out"
      ],
      "execution_count": 156,
      "outputs": [
        {
          "output_type": "execute_result",
          "data": {
            "text/plain": [
              "tensor([[0.5292]], grad_fn=<SigmoidBackward>)"
            ]
          },
          "metadata": {
            "tags": []
          },
          "execution_count": 156
        }
      ]
    },
    {
      "cell_type": "markdown",
      "metadata": {
        "id": "8m3GRmZR5Xpk",
        "colab_type": "text"
      },
      "source": [
        "### Loss"
      ]
    },
    {
      "cell_type": "code",
      "metadata": {
        "id": "Im8L046c5Blz",
        "colab_type": "code",
        "colab": {
          "base_uri": "https://localhost:8080/",
          "height": 87
        },
        "outputId": "ad1ef5e9-49a6-49a3-91f1-2399b67e5472"
      },
      "source": [
        "out = net(inp) # Выход сети\n",
        "target = torch.tensor(y[0]).float() # истинная метка класса\n",
        "\n",
        "criterion = nn.BCELoss() # бинарная кросс-энтропия == логарифм вероятности положительнго класса\n",
        "\n",
        "loss = criterion(out, target)\n",
        "print(loss)"
      ],
      "execution_count": 158,
      "outputs": [
        {
          "output_type": "stream",
          "text": [
            "tensor(0.7534, grad_fn=<BinaryCrossEntropyBackward>)\n"
          ],
          "name": "stdout"
        },
        {
          "output_type": "stream",
          "text": [
            "/usr/local/lib/python3.6/dist-packages/torch/nn/modules/loss.py:516: UserWarning: Using a target size (torch.Size([])) that is different to the input size (torch.Size([1, 1])) is deprecated. Please ensure they have the same size.\n",
            "  return F.binary_cross_entropy(input, target, weight=self.weight, reduction=self.reduction)\n"
          ],
          "name": "stderr"
        }
      ]
    },
    {
      "cell_type": "code",
      "metadata": {
        "id": "HcZ2s-_v53W5",
        "colab_type": "code",
        "colab": {
          "base_uri": "https://localhost:8080/",
          "height": 67
        },
        "outputId": "f3603b33-8c85-4d73-9e1e-b7f6ded1c3ff"
      },
      "source": [
        "print(loss.grad_fn)  # Loss\n",
        "print(loss.grad_fn.next_functions[0][0])  # sigmoid\n",
        "print(loss.grad_fn.next_functions[0][0].next_functions[0][0])  # "
      ],
      "execution_count": 159,
      "outputs": [
        {
          "output_type": "stream",
          "text": [
            "<BinaryCrossEntropyBackward object at 0x7fb6856a5c50>\n",
            "<SigmoidBackward object at 0x7fb685717dd8>\n",
            "<AddmmBackward object at 0x7fb6856a5c50>\n"
          ],
          "name": "stdout"
        }
      ]
    },
    {
      "cell_type": "markdown",
      "metadata": {
        "id": "NNlGWbwl7dQ8",
        "colab_type": "text"
      },
      "source": [
        "### Backprop"
      ]
    },
    {
      "cell_type": "code",
      "metadata": {
        "id": "XVXXN8WA7Nnr",
        "colab_type": "code",
        "colab": {
          "base_uri": "https://localhost:8080/",
          "height": 101
        },
        "outputId": "cb5b7f4b-ef25-43ad-a862-2c53f0d2ce69"
      },
      "source": [
        "net.zero_grad()     # Занулим градиенты\n",
        "\n",
        "print('net.fc1.bias.grad before backward')\n",
        "print(net.fc1.bias.grad)\n",
        "\n",
        "loss.backward()\n",
        "\n",
        "print('net.fc1.bias.grad after backward')\n",
        "print(net.fc1.bias.grad)"
      ],
      "execution_count": 160,
      "outputs": [
        {
          "output_type": "stream",
          "text": [
            "net.fc1.bias.grad before backward\n",
            "None\n",
            "net.fc1.bias.grad after backward\n",
            "tensor([ 0.0000,  0.1384, -0.1520,  0.0532, -0.0989,  0.0000,  0.0000,  0.0000,\n",
            "         0.0000,  0.0778])\n"
          ],
          "name": "stdout"
        }
      ]
    },
    {
      "cell_type": "markdown",
      "metadata": {
        "id": "Yeq9YDXE8jgL",
        "colab_type": "text"
      },
      "source": [
        "### Update the weights\n",
        "\n",
        "weight = weight - learning_rate * gradient"
      ]
    },
    {
      "cell_type": "code",
      "metadata": {
        "id": "-WIdBXN773QM",
        "colab_type": "code",
        "colab": {
          "base_uri": "https://localhost:8080/",
          "height": 70
        },
        "outputId": "1f77ab06-7a5f-426b-d7f7-a98269213874"
      },
      "source": [
        "import torch.optim as optim\n",
        "\n",
        "# create your optimizer\n",
        "optimizer = optim.SGD(net.parameters(), lr=0.01)\n",
        "\n",
        "# in your training loop:\n",
        "optimizer.zero_grad()   # zero the gradient buffers\n",
        "output = net(inp)\n",
        "loss = criterion(output, target)\n",
        "loss.backward()\n",
        "optimizer.step()    # Does the update"
      ],
      "execution_count": 169,
      "outputs": [
        {
          "output_type": "stream",
          "text": [
            "/usr/local/lib/python3.6/dist-packages/torch/nn/modules/loss.py:516: UserWarning: Using a target size (torch.Size([])) that is different to the input size (torch.Size([1, 1])) is deprecated. Please ensure they have the same size.\n",
            "  return F.binary_cross_entropy(input, target, weight=self.weight, reduction=self.reduction)\n"
          ],
          "name": "stderr"
        }
      ]
    },
    {
      "cell_type": "code",
      "metadata": {
        "id": "LokHmT5-87hh",
        "colab_type": "code",
        "colab": {
          "base_uri": "https://localhost:8080/",
          "height": 34
        },
        "outputId": "f4bf9e5b-44a9-40b2-e9c0-9db5e98d3d86"
      },
      "source": [
        "loss"
      ],
      "execution_count": 170,
      "outputs": [
        {
          "output_type": "execute_result",
          "data": {
            "text/plain": [
              "tensor(0.6695, grad_fn=<BinaryCrossEntropyBackward>)"
            ]
          },
          "metadata": {
            "tags": []
          },
          "execution_count": 170
        }
      ]
    },
    {
      "cell_type": "code",
      "metadata": {
        "id": "CfvYBG3aCh_K",
        "colab_type": "code",
        "colab": {
          "base_uri": "https://localhost:8080/",
          "height": 87
        },
        "outputId": "c6cd314b-b770-413d-c4f3-13ef31371a65"
      },
      "source": [
        "optimizer.zero_grad()   # zero the gradient buffers\n",
        "output = net(inp)\n",
        "loss = criterion(output, target)\n",
        "loss.backward()\n",
        "optimizer.step()    # Does the update\n",
        "loss"
      ],
      "execution_count": 173,
      "outputs": [
        {
          "output_type": "stream",
          "text": [
            "/usr/local/lib/python3.6/dist-packages/torch/nn/modules/loss.py:516: UserWarning: Using a target size (torch.Size([])) that is different to the input size (torch.Size([1, 1])) is deprecated. Please ensure they have the same size.\n",
            "  return F.binary_cross_entropy(input, target, weight=self.weight, reduction=self.reduction)\n"
          ],
          "name": "stderr"
        },
        {
          "output_type": "execute_result",
          "data": {
            "text/plain": [
              "tensor(0.6135, grad_fn=<BinaryCrossEntropyBackward>)"
            ]
          },
          "metadata": {
            "tags": []
          },
          "execution_count": 173
        }
      ]
    },
    {
      "cell_type": "markdown",
      "metadata": {
        "id": "VFo8D8cO-Y9a",
        "colab_type": "text"
      },
      "source": [
        "### Соединяем все вместе. Обучение"
      ]
    },
    {
      "cell_type": "code",
      "metadata": {
        "id": "3Q2Ed49y-Mzj",
        "colab_type": "code",
        "colab": {}
      },
      "source": [
        "class Net(nn.Module):\n",
        "\n",
        "    def __init__(self):\n",
        "       # Описываем только слои (линейную часть)\n",
        "        super(Net, self).__init__()\n",
        "\n",
        "        # an affine operation: y = Wx + b\n",
        "        self.fc1 = nn.Linear(2, 10)  # вход - выход\n",
        "        self.fc2 = nn.Linear(10, 1)\n",
        "\n",
        "    def forward(self, x):\n",
        "        # тут описываем все нелинейные параметры сети\n",
        "\n",
        "        x = F.relu(self.fc1(x))\n",
        "        x = F.relu(self.fc2(x))\n",
        "        return x\n",
        "\n",
        "    def fit(self, input_data, target, epochs=1):\n",
        "      criterion = nn.BCELoss()\n",
        "      optimizer = optim.SGD(self.parameters(), lr=0.01)\n",
        "      for i in range(epochs): # кол-во эпох\n",
        "        optimizer.zero_grad()\n",
        "        output = self(input_data)\n",
        "        try:\n",
        "          loss = criterion(output, target)\n",
        "          loss.backward()\n",
        "          optimizer.step()\n",
        "          if i % 50 == 0:\n",
        "            print(loss)\n",
        "        except:\n",
        "          print(i, 'error', loss)\n",
        "          break\n",
        "\n",
        "\n",
        "inp_data = torch.tensor(X).float()\n",
        "target = torch.tensor(y).float()\n",
        "\n"
      ],
      "execution_count": 0,
      "outputs": []
    },
    {
      "cell_type": "code",
      "metadata": {
        "id": "74sCYf6e-Ovx",
        "colab_type": "code",
        "colab": {}
      },
      "source": [
        "\n",
        "net = Net()\n"
      ],
      "execution_count": 0,
      "outputs": []
    },
    {
      "cell_type": "code",
      "metadata": {
        "id": "Ggu1xLdSJ1Pb",
        "colab_type": "code",
        "colab": {
          "base_uri": "https://localhost:8080/",
          "height": 104
        },
        "outputId": "c4ccc6c8-9c56-466e-fdd6-c74fa7c3c8bd"
      },
      "source": [
        "net.fit(inp_data, target, epochs=750)"
      ],
      "execution_count": 262,
      "outputs": [
        {
          "output_type": "stream",
          "text": [
            "tensor(35.3018, grad_fn=<BinaryCrossEntropyBackward>)\n",
            "43 error tensor(0.4110, grad_fn=<BinaryCrossEntropyBackward>)\n"
          ],
          "name": "stdout"
        },
        {
          "output_type": "stream",
          "text": [
            "/usr/local/lib/python3.6/dist-packages/torch/nn/modules/loss.py:516: UserWarning: Using a target size (torch.Size([500])) that is different to the input size (torch.Size([500, 1])) is deprecated. Please ensure they have the same size.\n",
            "  return F.binary_cross_entropy(input, target, weight=self.weight, reduction=self.reduction)\n"
          ],
          "name": "stderr"
        }
      ]
    },
    {
      "cell_type": "code",
      "metadata": {
        "id": "jtDtlRJyKAqc",
        "colab_type": "code",
        "colab": {}
      },
      "source": [
        "out = net(inp_data)"
      ],
      "execution_count": 0,
      "outputs": []
    },
    {
      "cell_type": "code",
      "metadata": {
        "id": "VzMRUAGZKEI8",
        "colab_type": "code",
        "colab": {
          "base_uri": "https://localhost:8080/",
          "height": 34
        },
        "outputId": "326c35ec-bb25-41e0-9689-cd8ff14dd21b"
      },
      "source": [
        "(out.round() == target.reshape(-1,1)).sum()"
      ],
      "execution_count": 265,
      "outputs": [
        {
          "output_type": "execute_result",
          "data": {
            "text/plain": [
              "tensor(416)"
            ]
          },
          "metadata": {
            "tags": []
          },
          "execution_count": 265
        }
      ]
    },
    {
      "cell_type": "code",
      "metadata": {
        "id": "UXP2AX_jKVcy",
        "colab_type": "code",
        "colab": {
          "base_uri": "https://localhost:8080/",
          "height": 34
        },
        "outputId": "0de9d88a-7dce-40c9-ba3e-10aaa1e7af26"
      },
      "source": [
        "416/len(y)"
      ],
      "execution_count": 266,
      "outputs": [
        {
          "output_type": "execute_result",
          "data": {
            "text/plain": [
              "0.832"
            ]
          },
          "metadata": {
            "tags": []
          },
          "execution_count": 266
        }
      ]
    },
    {
      "cell_type": "markdown",
      "metadata": {
        "id": "ZVyMI8wnYtzr",
        "colab_type": "text"
      },
      "source": [
        "# Ручное обновление весов"
      ]
    },
    {
      "cell_type": "code",
      "metadata": {
        "id": "MzR_vXZOIQJp",
        "colab_type": "code",
        "colab": {
          "base_uri": "https://localhost:8080/",
          "height": 222
        },
        "outputId": "bb5a4e72-25b4-4a5c-f5c7-13f966b9bac0"
      },
      "source": [
        "import torch\n",
        "# Архитектура\n",
        "model = torch.nn.Sequential(\n",
        "    torch.nn.Linear(2, 10),\n",
        "    torch.nn.ReLU(),\n",
        "    torch.nn.Linear(10, 1),\n",
        "    torch.nn.Sigmoid(),\n",
        ")\n",
        "\n",
        "loss_fn = torch.nn.BCELoss()\n",
        "\n",
        "learning_rate = 1e-2\n",
        "\n",
        "###  Обучение\n",
        "for t in range(900):\n",
        "\n",
        "    y_pred = model(inp_data)\n",
        "    loss = loss_fn(y_pred, target)\n",
        "    \n",
        "    # callback\n",
        "    if t % 100 == 99:\n",
        "        print(t, loss.item())\n",
        "\n",
        "    model.zero_grad()\n",
        "    loss.backward()\n",
        "\n",
        "    # Обновление весов\n",
        "    with torch.no_grad():\n",
        "        for param in model.parameters():\n",
        "            param -= learning_rate * param.grad"
      ],
      "execution_count": 278,
      "outputs": [
        {
          "output_type": "stream",
          "text": [
            "/usr/local/lib/python3.6/dist-packages/torch/nn/modules/loss.py:516: UserWarning: Using a target size (torch.Size([500])) that is different to the input size (torch.Size([500, 1])) is deprecated. Please ensure they have the same size.\n",
            "  return F.binary_cross_entropy(input, target, weight=self.weight, reduction=self.reduction)\n"
          ],
          "name": "stderr"
        },
        {
          "output_type": "stream",
          "text": [
            "99 0.5600141286849976\n",
            "199 0.4640197455883026\n",
            "299 0.3893949091434479\n",
            "399 0.3339513838291168\n",
            "499 0.2947917878627777\n",
            "599 0.26740917563438416\n",
            "699 0.24832458794116974\n",
            "799 0.2347581833600998\n",
            "899 0.22500590980052948\n"
          ],
          "name": "stdout"
        }
      ]
    },
    {
      "cell_type": "code",
      "metadata": {
        "id": "KGC7m9SgUERL",
        "colab_type": "code",
        "colab": {}
      },
      "source": [
        "460/len(y)"
      ],
      "execution_count": 0,
      "outputs": []
    },
    {
      "cell_type": "code",
      "metadata": {
        "id": "5kxpLKNGPh2r",
        "colab_type": "code",
        "colab": {}
      },
      "source": [
        "a = (model(inp_data).round() == target.reshape(-1,1)).numpy()"
      ],
      "execution_count": 0,
      "outputs": []
    },
    {
      "cell_type": "code",
      "metadata": {
        "id": "q7-m6MzQS2vQ",
        "colab_type": "code",
        "colab": {
          "base_uri": "https://localhost:8080/",
          "height": 282
        },
        "outputId": "99950ec6-9d46-412d-89d3-b9259cc675dd"
      },
      "source": [
        "# Посмотрим на ошибки классификации\n",
        "plt.scatter(X[y==0][:,0],X[y==0][:,1], alpha=0.2) \n",
        "plt.scatter(X[y==1][:,0],X[y==1][:,1], alpha=0.2)\n",
        "plt.scatter(X[a.flatten()==False][:,0],X[a.flatten()==False][:,1], c='red', edgecolors='k', alpha=0.9)"
      ],
      "execution_count": 313,
      "outputs": [
        {
          "output_type": "execute_result",
          "data": {
            "text/plain": [
              "<matplotlib.collections.PathCollection at 0x7fb683fbde80>"
            ]
          },
          "metadata": {
            "tags": []
          },
          "execution_count": 313
        },
        {
          "output_type": "display_data",
          "data": {
            "image/png": "[encoded data removed]",
            "text/plain": [
              "<Figure size 432x288 with 1 Axes>"
            ]
          },
          "metadata": {
            "tags": [],
            "needs_background": "light"
          }
        }
      ]
    },
    {
      "cell_type": "markdown",
      "metadata": {
        "id": "Kf1KKtG7YzBi",
        "colab_type": "text"
      },
      "source": [
        "# Использование оптимизатора"
      ]
    },
    {
      "cell_type": "code",
      "metadata": {
        "id": "73_8HqTjSGxQ",
        "colab_type": "code",
        "colab": {
          "base_uri": "https://localhost:8080/",
          "height": 154
        },
        "outputId": "606aa376-68c3-4950-c65d-04b3f18f3036"
      },
      "source": [
        "import torch\n",
        "\n",
        "x = inp_data\n",
        "y = target\n",
        "\n",
        "\n",
        "model = torch.nn.Sequential(\n",
        "    torch.nn.Linear(2, 10),\n",
        "    torch.nn.ReLU(),\n",
        "    torch.nn.Linear(10, 1),\n",
        "    torch.nn.Sigmoid(),\n",
        ")\n",
        "\n",
        "loss_fn = torch.nn.BCELoss()\n",
        "\n",
        "learning_rate = 1e-3\n",
        "optimizer = torch.optim.Adam(model.parameters(), lr=learning_rate)\n",
        "\n",
        "for t in range(500):\n",
        "    y_pred = model(x)\n",
        "\n",
        "    # Compute and print loss.\n",
        "    loss = loss_fn(y_pred, y)\n",
        "    if t % 100 == 99:\n",
        "        print(t, loss.item())\n",
        "\n",
        "    optimizer.zero_grad()\n",
        "    loss.backward()\n",
        "\n",
        "    optimizer.step()"
      ],
      "execution_count": 319,
      "outputs": [
        {
          "output_type": "stream",
          "text": [
            "/usr/local/lib/python3.6/dist-packages/torch/nn/modules/loss.py:516: UserWarning: Using a target size (torch.Size([500])) that is different to the input size (torch.Size([500, 1])) is deprecated. Please ensure they have the same size.\n",
            "  return F.binary_cross_entropy(input, target, weight=self.weight, reduction=self.reduction)\n"
          ],
          "name": "stderr"
        },
        {
          "output_type": "stream",
          "text": [
            "99 0.45546776056289673\n",
            "199 0.32772552967071533\n",
            "299 0.25370845198631287\n",
            "399 0.22067640721797943\n",
            "499 0.2052098512649536\n"
          ],
          "name": "stdout"
        }
      ]
    },
    {
      "cell_type": "code",
      "metadata": {
        "id": "1CrlVhM7ZEhK",
        "colab_type": "code",
        "colab": {}
      },
      "source": [
        ""
      ],
      "execution_count": 0,
      "outputs": []
    }
  ]
}